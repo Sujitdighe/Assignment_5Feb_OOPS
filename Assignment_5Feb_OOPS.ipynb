{
 "cells": [
  {
   "cell_type": "code",
   "execution_count": 7,
   "id": "421efb80",
   "metadata": {},
   "outputs": [],
   "source": [
    "# #Q1. Class and Object in Object-Oriented Programming (OOP):\n",
    "\n",
    "# Class: A class is a blueprint or template for creating objects. It defines the attributes (data members) and methods (functions) that the objects will have. In other words, a class provides the structure for objects.\n",
    "# Object: An object is an instance of a class. It is a tangible entity that represents a real-world entity or concept. Objects have state (attributes) and behavior (methods) defined by their class."
   ]
  },
  {
   "cell_type": "code",
   "execution_count": 12,
   "id": "22be3d18",
   "metadata": {},
   "outputs": [],
   "source": [
    "class Car:\n",
    "    def __init__(self, brand, model):\n",
    "        self.brand = brand\n",
    "        self.model = model\n",
    "\n",
    "    def drive(self):\n",
    "        print(f\"{self.brand} {self.model} is being driven.\")\n",
    "        "
   ]
  },
  {
   "cell_type": "code",
   "execution_count": 13,
   "id": "132fee6c",
   "metadata": {},
   "outputs": [
    {
     "name": "stdout",
     "output_type": "stream",
     "text": [
      "BMW 2034 is being driven.\n"
     ]
    }
   ],
   "source": [
    "sujit = Car('BMW', '2034')\n",
    "sujit.drive()"
   ]
  },
  {
   "cell_type": "code",
   "execution_count": null,
   "id": "c5a2959d",
   "metadata": {},
   "outputs": [],
   "source": [
    "# #Q2. Four Pillars of OOPs:\n",
    "\n",
    "# Encapsulation: Bundling data (attributes) and methods (functions) that operate on the data into a single unit (class), and restricting access to some of the object's components.\n",
    "# Abstraction: Hiding the complex implementation details and showing only the necessary features of an object.\n",
    "# Inheritance: The ability of a class (subclass) to inherit properties and behavior from another class (superclass), promoting code reusability.\n",
    "# Polymorphism: The ability to present the same interface for different data types or objects, allowing methods to behave differently based on the object that calls them."
   ]
  },
  {
   "cell_type": "code",
   "execution_count": null,
   "id": "1e41e815",
   "metadata": {},
   "outputs": [],
   "source": [
    "# Q3. Use of the __init__() function:\n",
    "\n",
    "# The __init__() function is a special method in Python classes used for initializing newly created objects. It is called automatically when a new instance of the class is created.\n",
    "# It allows you to initialize the attributes of the object with some default or user-defined values."
   ]
  },
  {
   "cell_type": "code",
   "execution_count": 14,
   "id": "fa0e4b63",
   "metadata": {},
   "outputs": [
    {
     "name": "stdout",
     "output_type": "stream",
     "text": [
      "Alice\n",
      "30\n"
     ]
    }
   ],
   "source": [
    "class Person:\n",
    "    def __init__(self, name, age):\n",
    "        self.name = name\n",
    "        self.age = age\n",
    "\n",
    "person1 = Person(\"Alice\", 30)\n",
    "print(person1.name)  # Output: Alice\n",
    "print(person1.age)   # Output: 30\n"
   ]
  },
  {
   "cell_type": "code",
   "execution_count": 15,
   "id": "08bd5cbd",
   "metadata": {},
   "outputs": [],
   "source": [
    "# Q4. Use of self in OOPs:\n",
    "\n",
    "# self is a reference to the current instance of the class. It is used to access variables and methods associated with the instance.\n",
    "# When defining methods within a class, self is the first parameter of any method in Python.\n",
    "# It allows methods to access and modify attributes of the instance to which they belong."
   ]
  },
  {
   "cell_type": "code",
   "execution_count": 16,
   "id": "dd8c721e",
   "metadata": {},
   "outputs": [],
   "source": [
    "# Q5. Inheritance:\n",
    "\n",
    "# Inheritance is a fundamental concept in OOP that allows a new class (subclass) to inherit properties and behavior (attributes and methods) from an existing class (superclass).\n",
    "# It promotes code reusability and establishes a hierarchical relationship between classes."
   ]
  },
  {
   "cell_type": "code",
   "execution_count": 17,
   "id": "43a09317",
   "metadata": {},
   "outputs": [
    {
     "name": "stdout",
     "output_type": "stream",
     "text": [
      "Woof!\n"
     ]
    }
   ],
   "source": [
    "#Single Inheritace\n",
    "class Animal:\n",
    "    def speak(self):\n",
    "        pass\n",
    "\n",
    "class Dog(Animal):\n",
    "    def speak(self):\n",
    "        return \"Woof!\"\n",
    "\n",
    "dog = Dog()\n",
    "print(dog.speak())  # Output: Woof!\n"
   ]
  },
  {
   "cell_type": "code",
   "execution_count": null,
   "id": "3f71a176",
   "metadata": {},
   "outputs": [],
   "source": [
    "#Multiple Inhertance"
   ]
  }
 ],
 "metadata": {
  "kernelspec": {
   "display_name": "Python 3 (ipykernel)",
   "language": "python",
   "name": "python3"
  },
  "language_info": {
   "codemirror_mode": {
    "name": "ipython",
    "version": 3
   },
   "file_extension": ".py",
   "mimetype": "text/x-python",
   "name": "python",
   "nbconvert_exporter": "python",
   "pygments_lexer": "ipython3",
   "version": "3.9.7"
  }
 },
 "nbformat": 4,
 "nbformat_minor": 5
}
